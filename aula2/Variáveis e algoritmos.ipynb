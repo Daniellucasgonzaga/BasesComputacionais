{
  "cells": [
    {
      "cell_type": "markdown",
      "metadata": {
        "id": "eU4YB3ferAQA"
      },
      "source": [
        "# Bases Computacionais: variáveis e algoritmos\n",
        "\n",
        "Renato Naville Watanabe"
      ]
    },
    {
      "cell_type": "markdown",
      "metadata": {
        "toc": true,
        "id": "dDRj7Eg4rAQF"
      },
      "source": [
        "<h1>Contents<span class=\"tocSkip\"></span></h1>\n",
        "<div class=\"toc\"><ul class=\"toc-item\"><li><span><a href=\"#Algoritmo\" data-toc-modified-id=\"Algoritmo-1\"><span class=\"toc-item-num\">1&nbsp;&nbsp;</span>Algoritmo</a></span></li><li><span><a href=\"#Ferramentas-de-computação-científica\" data-toc-modified-id=\"Ferramentas-de-computação-científica-2\"><span class=\"toc-item-num\">2&nbsp;&nbsp;</span>Ferramentas de computação científica</a></span><ul class=\"toc-item\"><li><span><a href=\"#Porque-Python-e--não-'X'-(colocar-qualquer-linguagem-aqui)\" data-toc-modified-id=\"Porque-Python-e--não-'X'-(colocar-qualquer-linguagem-aqui)-2.1\"><span class=\"toc-item-num\">2.1&nbsp;&nbsp;</span>Porque Python e  não 'X' (colocar qualquer linguagem aqui)</a></span></li><li><span><a href=\"#Um-programa-em-várias-linguagens\" data-toc-modified-id=\"Um-programa-em-várias-linguagens-2.2\"><span class=\"toc-item-num\">2.2&nbsp;&nbsp;</span>Um programa em várias linguagens</a></span></li></ul></li><li><span><a href=\"#Google-Colab\" data-toc-modified-id=\"Google-Colab-3\"><span class=\"toc-item-num\">3&nbsp;&nbsp;</span>Google Colab</a></span><ul class=\"toc-item\"><li><span><a href=\"#Tipos-de-células\" data-toc-modified-id=\"Tipos-de-células-3.1\"><span class=\"toc-item-num\">3.1&nbsp;&nbsp;</span>Tipos de células</a></span></li></ul></li><li><span><a href=\"#Dando-comandos-em-Python\" data-toc-modified-id=\"Dando-comandos-em-Python-4\"><span class=\"toc-item-num\">4&nbsp;&nbsp;</span>Dando comandos em Python</a></span></li><li><span><a href=\"#Variável\" data-toc-modified-id=\"Variável-5\"><span class=\"toc-item-num\">5&nbsp;&nbsp;</span>Variável</a></span></li><li><span><a href=\"#Variável\" data-toc-modified-id=\"Variável-6\"><span class=\"toc-item-num\">6&nbsp;&nbsp;</span>Variável</a></span></li><li><span><a href=\"#O-símbolo-'='-de-designação\" data-toc-modified-id=\"O-símbolo-'='-de-designação-7\"><span class=\"toc-item-num\">7&nbsp;&nbsp;</span>O símbolo '=' de designação</a></span></li><li><span><a href=\"#Operações-aritméticas-básicas\" data-toc-modified-id=\"Operações-aritméticas-básicas-8\"><span class=\"toc-item-num\">8&nbsp;&nbsp;</span>Operações aritméticas básicas</a></span></li><li><span><a href=\"#Ordem-de-operações\" data-toc-modified-id=\"Ordem-de-operações-9\"><span class=\"toc-item-num\">9&nbsp;&nbsp;</span>Ordem de operações</a></span></li><li><span><a href=\"#Funções-matemáticas\" data-toc-modified-id=\"Funções-matemáticas-10\"><span class=\"toc-item-num\">10&nbsp;&nbsp;</span>Funções matemáticas</a></span></li><li><span><a href=\"#Funções-matemáticas\" data-toc-modified-id=\"Funções-matemáticas-11\"><span class=\"toc-item-num\">11&nbsp;&nbsp;</span>Funções matemáticas</a></span></li><li><span><a href=\"#Comentários\" data-toc-modified-id=\"Comentários-12\"><span class=\"toc-item-num\">12&nbsp;&nbsp;</span>Comentários</a></span></li><li><span><a href=\"#Texto-no-Colab\" data-toc-modified-id=\"Texto-no-Colab-13\"><span class=\"toc-item-num\">13&nbsp;&nbsp;</span>Texto no Colab</a></span></li><li><span><a href=\"#Um-código-um-pouco-mais-complexo\" data-toc-modified-id=\"Um-código-um-pouco-mais-complexo-14\"><span class=\"toc-item-num\">14&nbsp;&nbsp;</span>Um código um pouco mais complexo</a></span></li><li><span><a href=\"#Formatando-a-saída-no-print\" data-toc-modified-id=\"Formatando-a-saída-no-print-15\"><span class=\"toc-item-num\">15&nbsp;&nbsp;</span>Formatando a saída no print</a></span></li><li><span><a href=\"#Tarefa-(para-agora)\" data-toc-modified-id=\"Tarefa-(para-agora)-16\"><span class=\"toc-item-num\">16&nbsp;&nbsp;</span>Tarefa (para agora)</a></span></li><li><span><a href=\"#Tarefa-(para-antes-da-próxima-aula)\" data-toc-modified-id=\"Tarefa-(para-antes-da-próxima-aula)-17\"><span class=\"toc-item-num\">17&nbsp;&nbsp;</span>Tarefa (para antes da próxima aula)</a></span></li><li><span><a href=\"#Referências\" data-toc-modified-id=\"Referências-18\"><span class=\"toc-item-num\">18&nbsp;&nbsp;</span>Referências</a></span></li></ul></div>"
      ]
    },
    {
      "cell_type": "markdown",
      "metadata": {
        "id": "dXn5zQYKrAQH"
      },
      "source": [
        "## Algoritmo\n",
        "\n",
        "\n",
        "Sequência de passos a serem executados para atingir um objetivo ou solução de um problema."
      ]
    },
    {
      "cell_type": "markdown",
      "metadata": {
        "id": "vce1RTK6rAQH"
      },
      "source": [
        "Exemplos de situações onde uma sequência lógica (algoritmo) de passos é necessária:\n",
        "\n",
        "- Fazer um bolo  \n",
        "- Construir um robô para explorar um local desconhecido  \n",
        "- Trocar uma lâmpada"
      ]
    },
    {
      "cell_type": "markdown",
      "metadata": {
        "id": "BnbIr-qdrAQI"
      },
      "source": [
        "<figure><center><img src=\"https://upload.wikimedia.org/wikipedia/commons/a/aa/Fluxogranma02.gif\"/></center></figure> \n",
        "\n",
        "Figura do [artigo Algoritmo da Wikipedia](https://pt.wikipedia.org/wiki/Algoritmo)."
      ]
    },
    {
      "cell_type": "markdown",
      "metadata": {
        "id": "nOIGWN4JrAQJ"
      },
      "source": [
        "Um **programa** de computador é a realização (ou implementação) de um **algoritmo** em um computador específico."
      ]
    },
    {
      "cell_type": "markdown",
      "metadata": {
        "id": "p4SpW8wMrAQK"
      },
      "source": [
        "É necessário muito cuidado ao fornecer instruções ao computador.  \n",
        "Ao fornecer instruções a um computador, ele executará exatamente o que você instruir.  \n",
        "A seguir, um vídeo do que pode acontecer ao não fornecer instruções precisas para um fim..."
      ]
    },
    {
      "cell_type": "code",
      "execution_count": null,
      "metadata": {
        "id": "aTSTOg61rAQK"
      },
      "outputs": [],
      "source": [
        "from IPython.display import YouTubeVideo\n",
        "YouTubeVideo('FN2RM-CHkuI')"
      ]
    },
    {
      "cell_type": "markdown",
      "metadata": {
        "id": "FaEUHru2rAQM"
      },
      "source": [
        "## Ferramentas de computação científica\n",
        "\n",
        "Existem diversas ferramentas que podem ser utilizadas em cálculos matemáticos avançados.\n",
        "- Fortran\n",
        "- Mathematica\n",
        "- Matlab, Octave, Scilab\n",
        "- LabVIEW\n",
        "- R\n",
        "- **Python**\n",
        "- Julia\n",
        "\n",
        "Geralmente essas ferramentas contam com bibliotecas de funções matemáticas prontas e recursos avançados para facilitar a experiência do usuário ([linguagem de alto nível](https://en.wikipedia.org/wiki/High-level_programming_language))."
      ]
    },
    {
      "cell_type": "markdown",
      "metadata": {
        "tags": [],
        "id": "dAzgXbISrAQO"
      },
      "source": [
        "### Porque Python e  não 'X' (colocar qualquer linguagem aqui)\n",
        "\n",
        "\n",
        "* Python é livre, código-aberto e multi-plataforma.\n",
        "* Python é fácil de aprender e tem uma comunidade bem grande e estabelecida.\n",
        "* Python é uma linguagem de programação real,  capaz de lidar com uma grande variedade de problemas.\n",
        "* Python não é a linguagem de execução mais rápida (longe disso), mas é das linguagens mais rápidas de se escrever código. É bem comum em computação científica não se preocupar com o tempo de execução, mas sim com o tempo de escrita. Mas se a velocidade de execução é importante, é simples integrar um código em Python com códigos escritos em outras linguagens mais rápidas (como C e Fortran)\n"
      ]
    },
    {
      "cell_type": "markdown",
      "metadata": {
        "id": "k0muoixmrAQO"
      },
      "source": [
        "### Um programa em várias linguagens\n",
        "\n",
        "O primeiro 'algoritmo' mais comum que se implementa em computador quando se aprende programação é imprimir a mensagem \"Hello World!\".  \n",
        "Veja [este link](https://en.wikipedia.org/wiki/%22Hello,_World!%22_program) da Wikipedia como este algoritmo é implementado em diferentes linguagens de programação.  \n",
        "\n",
        "Para computação científica, o equivalente seria a implmentação do [Algoritmo de Trabb Pardo-Knuth](https://en.wikipedia.org/wiki/TPK_algorithm).   \n",
        "\n",
        "Outro algoritmo tradicional para implementar é a sequência de Fibonacci, veja [neste link](https://en.wikibooks.org/wiki/Algorithm_Implementation/Mathematics/Fibonacci_Number_Program#Python) em diferentes linguagens."
      ]
    },
    {
      "cell_type": "markdown",
      "metadata": {
        "id": "HilUxIJBrAQP"
      },
      "source": [
        "## Google Colab\n",
        "\n",
        "\n",
        "O ambiente de desenvolvimento que será usado no curso é o Google Colab. No Google Colab se trabalha com Notebooks (assim como no Jupyter Notebook). Notebooks são uma ferramenta versátil para programação, visualização de dados, fazer gráficos e escrita. \n",
        "\n",
        "<img src=\"https://github.com/BMClab/BasesComputacionais/blob/master/aula2/imagens/colab.png?raw=1\" width=\"500\">\n",
        "\n",
        "De acordo com o que está no site introdutório do Google Colab:\n",
        "\n",
        "    \"O Colaboratory ou \"Colab\" permite escrever código Python no seu navegador, com:\n",
        "\n",
        "    * Nenhuma configuração necessária\n",
        "    * Acesso gratuito a GPUs\n",
        "    * Compartilhamento fácil\n",
        "    \n",
        "    Você pode ser um estudante, um cientista de dados ou um pesquisador de IA, o Colab pode facilitar seu trabalho. \"\n",
        "    \n",
        "Uma outra vantagem é que não é necessário instalar nada no seu computador."
      ]
    },
    {
      "cell_type": "markdown",
      "metadata": {
        "id": "vIIV6ZSIrAQQ"
      },
      "source": [
        "### Tipos de células\n",
        "\n",
        "O Google Colab é composto de células. É nas células que são dados os comandos para o Google Colab:\n",
        "\n",
        "Existem dois tipos de células:\n",
        "\n",
        "* Texto: é possível escrever textos, fórmulas matemáticas (LaTex) e imagens.\n",
        "* Código: são dados comandos em Python."
      ]
    },
    {
      "cell_type": "markdown",
      "metadata": {
        "tags": [],
        "id": "pBRatqHarAQQ"
      },
      "source": [
        "## Dando comandos em Python\n",
        "\n",
        "Digitando o seguinte comando numa célula de código e a executando (para executar uma célula basta apertar no triânguo apontando para a direita que está no lado esquerdo da célula ou apertar Shift+Enter):"
      ]
    },
    {
      "cell_type": "code",
      "execution_count": null,
      "metadata": {
        "tags": [],
        "id": "x-hV_KMkrAQQ"
      },
      "outputs": [],
      "source": [
        "5*2/4 - 0.5"
      ]
    },
    {
      "cell_type": "markdown",
      "metadata": {
        "tags": [],
        "id": "ykszlyWqrAQR"
      },
      "source": [
        "é feita a conta $\\frac{5\\times2}{4}-0,5$ e o seu resultado é mostrado."
      ]
    },
    {
      "cell_type": "markdown",
      "metadata": {
        "tags": [],
        "id": "m1oyxsvxrAQR"
      },
      "source": [
        "Podemos gravar o resultado de uma conta em uma variável, para poder usar o resultado em momento posterior:"
      ]
    },
    {
      "cell_type": "code",
      "execution_count": null,
      "metadata": {
        "tags": [],
        "id": "U_tHb2TZrAQS"
      },
      "outputs": [],
      "source": [
        "x = 5*2/4 - 0.5\n",
        "x"
      ]
    },
    {
      "cell_type": "markdown",
      "metadata": {
        "id": "yE4OQnrrrAQS"
      },
      "source": [
        "## Variável\n",
        "\n",
        "Uma variável é um endereço da memória de acesso randômico (RAM), representada por um nome \n",
        "(rótulo), criado pelo usuário, cujo conteúdo pode se alterar no decorrer do programa.\n",
        "\n",
        "Uma variável é composta por dois elementos:\n",
        "    \n",
        "  - **Identificador**: nome dado pelo programador à variável\n",
        "  - **Conteúdo**: valor da variável\n",
        "<img src=\"https://github.com/BMClab/BasesComputacionais/blob/master/aula2/imagens/memvar2.png?raw=1\" width=\"400\">\n",
        "\n",
        "No caso anterior, x é o identificador (nome da variável) e 2 é o conteúdo (valor)."
      ]
    },
    {
      "cell_type": "markdown",
      "metadata": {
        "id": "d8KdYcZJrAQS"
      },
      "source": [
        "## Variável\n",
        "\n",
        "Cada vez que mencionarmos o nome de uma variável, estaremos na verdade utilizando o seu conteúdo"
      ]
    },
    {
      "cell_type": "code",
      "execution_count": null,
      "metadata": {
        "id": "qSvMKqDMrAQT"
      },
      "outputs": [],
      "source": [
        "y = x + 5\n",
        "y"
      ]
    },
    {
      "cell_type": "markdown",
      "metadata": {
        "id": "ruS2fZJUrAQT"
      },
      "source": [
        "Esta operação define $y$ como sendo uma variável com valor igual ao valor de $x$ **mais** (+) cinco. Ou seja, $y$ tem um valor igual a 7"
      ]
    },
    {
      "cell_type": "code",
      "execution_count": null,
      "metadata": {
        "id": "xxsOBeptrAQT"
      },
      "outputs": [],
      "source": [
        "z = x*y\n",
        "z"
      ]
    },
    {
      "cell_type": "markdown",
      "metadata": {
        "id": "EY_VghaarAQU"
      },
      "source": [
        "Neste caso, $z$ é igual à **multiplicação** (\\*) dos valores guardados em $x$ e $y$, ou seja, $z$ é igual a 14."
      ]
    },
    {
      "cell_type": "code",
      "execution_count": null,
      "metadata": {
        "id": "fuGyksdxrAQU"
      },
      "outputs": [],
      "source": [
        "w = z/x\n",
        "w"
      ]
    },
    {
      "cell_type": "markdown",
      "metadata": {
        "id": "nfK1XkoHrAQU"
      },
      "source": [
        "Aqui, $w$ é igual à **divisão** (/) dos valores guardados em $z$ e $x$, ou seja, $w$\n",
        "é igual a 7."
      ]
    },
    {
      "cell_type": "code",
      "execution_count": null,
      "metadata": {
        "id": "iVpNF2wgrAQV"
      },
      "outputs": [],
      "source": [
        "k = w - x\n",
        "k"
      ]
    },
    {
      "cell_type": "markdown",
      "metadata": {
        "id": "f4a5pLpjrAQV"
      },
      "source": [
        "Aqui, $k$ é igual à **subtração** (-) do valor guardado em $x$ de $w$. Ou seja, $k$\n",
        "é igual a 5."
      ]
    },
    {
      "cell_type": "code",
      "execution_count": null,
      "metadata": {
        "id": "XDUtEfLirAQV"
      },
      "outputs": [],
      "source": [
        "m = k**3\n",
        "m"
      ]
    },
    {
      "cell_type": "markdown",
      "metadata": {
        "id": "B1HuysnIrAQV"
      },
      "source": [
        "Aqui, $m$ é igual ao valor guardado em $k$ **elevado** (\\**) ao cubo. Ou seja, $m$ é igual a 125."
      ]
    },
    {
      "cell_type": "code",
      "execution_count": null,
      "metadata": {
        "id": "oABAE-2ErAQW"
      },
      "outputs": [],
      "source": [
        "n = 10%3\n",
        "n"
      ]
    },
    {
      "cell_type": "markdown",
      "metadata": {
        "id": "TMe_S2p9rAQW"
      },
      "source": [
        "Neste caso, $n$ tem o valor do **resto** (\\%) da divisão entre 10 e 3. Ou seja, $n$ é igual a 1."
      ]
    },
    {
      "cell_type": "code",
      "execution_count": null,
      "metadata": {
        "tags": [],
        "id": "O7Qj8GK9rAQW"
      },
      "outputs": [],
      "source": [
        "p = 10//3\n",
        "p"
      ]
    },
    {
      "cell_type": "markdown",
      "metadata": {
        "tags": [],
        "id": "0_y2-LNjrAQW"
      },
      "source": [
        "Aqui, a variável $p$ tem o valor da **divisão inteira** (//) entre 10 e 3. Ou seja, $p$ é igual a 3."
      ]
    },
    {
      "cell_type": "markdown",
      "metadata": {
        "id": "vELvMNJMrAQX"
      },
      "source": [
        "## O símbolo '=' de designação\n",
        "\n",
        "Em matemática '=' é o símbolo da identidade, mas na programação de computadores '=' é usado para designação. Isso significa que a parte direita da expressão é atribuída à sua parte esquerda. \n",
        "\n",
        "Por exemplo, 'x = x + 1' não faz sentido na matemática, mas na programação de computadores sim:\n",
        "\n"
      ]
    },
    {
      "cell_type": "code",
      "execution_count": null,
      "metadata": {
        "tags": [],
        "id": "V3VDfD5CrAQX"
      },
      "outputs": [],
      "source": [
        "x = 2"
      ]
    },
    {
      "cell_type": "code",
      "execution_count": null,
      "metadata": {
        "id": "m0UndCP8rAQX"
      },
      "outputs": [],
      "source": [
        "x = x + 1\n",
        "x"
      ]
    },
    {
      "cell_type": "markdown",
      "metadata": {
        "id": "7_94jbPErAQY"
      },
      "source": [
        "## Operações aritméticas básicas\n",
        "\n",
        "Portanto, as operações aritméticas básicas são:\n",
        "\n",
        "- **multiplicação**: \\*\n",
        "- **divisão**: /\n",
        "- **adição**: +\n",
        "- **subtração**: -\n",
        "- **potência**: \\**\n",
        "- **resto**: \\%"
      ]
    },
    {
      "cell_type": "markdown",
      "metadata": {
        "id": "cnTiAMBqrAQY"
      },
      "source": [
        "## Ordem de operações\n",
        "\n",
        "Assim como na matemática, em linguagens de programação a multiplicação e a divisão tem precedência sobre soma e subtração.\n",
        "\n",
        "Assim, na operação:\n",
        "\n",
        "$$\\underbrace{\\underbrace{4+\\underbrace{3*4}_{12}}_{16}-2}_{14}$$\n",
        "\n",
        "primeiramente é executada a multiplicação e depois a soma e a subtração na ordem em que elas aparecem."
      ]
    },
    {
      "cell_type": "code",
      "execution_count": null,
      "metadata": {
        "id": "81fu9dDLrAQY"
      },
      "outputs": [],
      "source": [
        "4+3*4-2"
      ]
    },
    {
      "cell_type": "markdown",
      "metadata": {
        "id": "gd0_yddgrAQY"
      },
      "source": [
        "A ordem de precedência das operações aritméticas básicas é:\n",
        "\n",
        "- \\** : potência\n",
        "- \\*, /, \\% : multiplicação, divisão e resto\n",
        "- +, - : adição, subtração\n",
        "\n",
        "No caso de operações com a mesma precedência, prevalece a ordem na qual as operações foram escritas."
      ]
    },
    {
      "cell_type": "markdown",
      "metadata": {
        "id": "zKuKy472rAQZ"
      },
      "source": [
        "Uma maneira de mudar a ordem de execução das operações é utilizando parênteses. As operações dentro de parênteses tem precedência:"
      ]
    },
    {
      "cell_type": "code",
      "execution_count": null,
      "metadata": {
        "id": "1WZEsY_ZrAQZ"
      },
      "outputs": [],
      "source": [
        "(4+3)*4-2"
      ]
    },
    {
      "cell_type": "markdown",
      "metadata": {
        "id": "XzUBxBJtrAQZ"
      },
      "source": [
        "## Funções matemáticas\n",
        "\n",
        "Para usar funções mais complexas, é necessário utilizar a biblioteca Numpy. Para poder utilizar esta biblioteca, é necessário importá-la:"
      ]
    },
    {
      "cell_type": "code",
      "execution_count": null,
      "metadata": {
        "id": "75SkOe4orAQZ"
      },
      "outputs": [],
      "source": [
        "import numpy as np"
      ]
    },
    {
      "cell_type": "markdown",
      "metadata": {
        "id": "xjs2W0JsrAQZ"
      },
      "source": [
        "Esta biblioteca tem diversas funções que são facilmente utilizadas colocando 'np.' antes da função desejada. Por exemplo, a função logaritmo na base 10 é chamada com: "
      ]
    },
    {
      "cell_type": "code",
      "execution_count": null,
      "metadata": {
        "id": "1Vdqmbc7rAQa"
      },
      "outputs": [],
      "source": [
        "np.log10(16)"
      ]
    },
    {
      "cell_type": "markdown",
      "metadata": {
        "id": "Jgtggsa3rAQa"
      },
      "source": [
        "Se você quiser guardar o resultado em uma variável também é possível:"
      ]
    },
    {
      "cell_type": "code",
      "execution_count": null,
      "metadata": {
        "id": "BrUmZuIorAQa"
      },
      "outputs": [],
      "source": [
        "a = np.log10(16)\n",
        "a"
      ]
    },
    {
      "cell_type": "markdown",
      "metadata": {
        "id": "C8sYKXExrAQa"
      },
      "source": [
        "E se quiser calcular o valor da função para uma variável é simples:"
      ]
    },
    {
      "cell_type": "code",
      "execution_count": null,
      "metadata": {
        "id": "wyIiKM86rAQb"
      },
      "outputs": [],
      "source": [
        "b = np.log10(k)\n",
        "b"
      ]
    },
    {
      "cell_type": "markdown",
      "metadata": {
        "id": "kLidai8_rAQb"
      },
      "source": [
        "## Funções matemáticas\n",
        "\n",
        "Alguns exemplos de funções são:\n"
      ]
    },
    {
      "cell_type": "markdown",
      "metadata": {
        "id": "T8wvD76brAQb"
      },
      "source": [
        "**Exponencial**: exp($x$)=$e^x$ em que $e=2,7182...$ "
      ]
    },
    {
      "cell_type": "code",
      "execution_count": null,
      "metadata": {
        "id": "nB1pbQuUrAQb"
      },
      "outputs": [],
      "source": [
        "np.exp(-2)"
      ]
    },
    {
      "cell_type": "markdown",
      "metadata": {
        "id": "NAsexL1ErAQb"
      },
      "source": [
        "**Raiz quadrada**"
      ]
    },
    {
      "cell_type": "code",
      "execution_count": null,
      "metadata": {
        "id": "_0utBgSzrAQc"
      },
      "outputs": [],
      "source": [
        "s = np.sqrt(25)\n",
        "s"
      ]
    },
    {
      "cell_type": "markdown",
      "metadata": {
        "id": "RoKLXHCMrAQc"
      },
      "source": [
        "**Funções trigonométricas**\n",
        "\n",
        "Em todas as funções trigonométricas, o ângulo deve estar em radianos."
      ]
    },
    {
      "cell_type": "code",
      "execution_count": null,
      "metadata": {
        "id": "EwmsHYZurAQc"
      },
      "outputs": [],
      "source": [
        "d = np.sin(np.pi/2)\n",
        "g = np.cos(np.pi/4)\n",
        "print(d)\n",
        "print(g)"
      ]
    },
    {
      "cell_type": "markdown",
      "metadata": {
        "id": "cNuRoq4IrAQc"
      },
      "source": [
        "Nos dois últimos casos, para representar o valor de $\\pi$, foi utilizado 'np.pi'."
      ]
    },
    {
      "cell_type": "markdown",
      "metadata": {
        "id": "Phmz6lALrAQd"
      },
      "source": [
        "**Função piso e função teto**\n",
        "\n",
        "A função piso calcula o número inteiro imediatamente menor que o número de entrada da função:"
      ]
    },
    {
      "cell_type": "code",
      "execution_count": null,
      "metadata": {
        "id": "hH5KiOmyrAQd"
      },
      "outputs": [],
      "source": [
        "np.floor(4.5)"
      ]
    },
    {
      "cell_type": "markdown",
      "metadata": {
        "id": "c2eHhEgGrAQd"
      },
      "source": [
        "A função teto calcula o número inteiro imediatamente maior que o número de entrada da função:"
      ]
    },
    {
      "cell_type": "code",
      "execution_count": null,
      "metadata": {
        "id": "i6H3tt9xrAQd"
      },
      "outputs": [],
      "source": [
        "np.ceil(4.5)"
      ]
    },
    {
      "cell_type": "markdown",
      "metadata": {
        "id": "9vA51VONrAQd"
      },
      "source": [
        "# Muito cuidado com como o computador lida com números!\n",
        "\n",
        "Veja os seguintes exemplos que mostram um problema com o fato de que números de ponto flutuante são representados no hardware do computador como frações de base 2 (binárias), mas a **maioria** das frações decimais não pode ser representada exatamente como frações binárias."
      ]
    },
    {
      "cell_type": "code",
      "execution_count": null,
      "metadata": {
        "id": "Hii0BE7UrAQe"
      },
      "outputs": [],
      "source": [
        "# 0,1 + 0,2 = 0,3\n",
        "0.1 + 0.2"
      ]
    },
    {
      "cell_type": "markdown",
      "metadata": {
        "id": "TjMxyYx5rAQe"
      },
      "source": [
        "O problema é que o número em base decimal `0,1` não tem uma representação exata em base binária.  \n",
        "Para saber mais sobre isso (que não é um problema específico do Python), veja esse [link](https://docs.python.org/3/tutorial/floatingpoint.html)."
      ]
    },
    {
      "cell_type": "markdown",
      "metadata": {
        "id": "EQmxe6rhrAQe"
      },
      "source": [
        "## Comentários\n",
        "\n",
        "Comentários são expressões que não têm nenhuma função na execução do código, mas servem para auxiliar na compreensão do código.\n",
        "\n",
        "É muito importante que o código esteja comentado. É muito comum acontecer de um programador ler o seu próprio código dias depois dele ter sido escrito e não entender o que o código faz.\n",
        "\n",
        "No Python, um comentário é iniciado pelo caracter '#'. Tudo que for escrito após o # não é executado pelo Python"
      ]
    },
    {
      "cell_type": "code",
      "execution_count": null,
      "metadata": {
        "id": "HYZ9Dz8krAQe"
      },
      "outputs": [],
      "source": [
        "x = x + 1  # Incremento de 1 na variável x\n",
        "x"
      ]
    },
    {
      "cell_type": "markdown",
      "metadata": {
        "tags": [],
        "id": "_RVVBxnXrAQf"
      },
      "source": [
        "## Texto no Colab\n",
        "\n",
        "Uma outra maneira de escrever comentários é criando células de Texto (clicar em +Texto na parte de cima da janela). Nesse tipo de célula você pode escrever qualquer texto (incluido expressões matemáticas) para explicar o código computacional feito. Essa é maneira mais recomendada para comentar código no Colab. "
      ]
    },
    {
      "cell_type": "markdown",
      "metadata": {
        "id": "Do5fLy-6rAQf"
      },
      "source": [
        "## Um código um pouco mais complexo\n",
        "\n",
        "Em um a célula podem ser dadas várias instruções, uma em cada linha. O código abaixo transforma uma massa em libras para kilogramas."
      ]
    },
    {
      "cell_type": "code",
      "execution_count": null,
      "metadata": {
        "id": "9puaS5l4rAQf"
      },
      "outputs": [],
      "source": [
        "ml = 10  # massa em libras\n",
        "mk = ml/2.205  # massa em kg\n",
        "print('m =', mk,'kg')"
      ]
    },
    {
      "cell_type": "markdown",
      "metadata": {
        "tags": [],
        "id": "Fv3BVOTtrAQf"
      },
      "source": [
        "## Formatando a saída no print\n",
        "\n",
        "É possível formatar a maneira como resultados numéricos são apresentados na tela. Por exemplo, para mostrar a massa encontrada com apenas três casas decimais, fazemos:"
      ]
    },
    {
      "cell_type": "code",
      "execution_count": null,
      "metadata": {
        "tags": [],
        "id": "eRVa5glhrAQg"
      },
      "outputs": [],
      "source": [
        "print(f'm = {mk:.3f} kg')"
      ]
    },
    {
      "cell_type": "markdown",
      "metadata": {
        "id": "JEMUCUEnrAQg"
      },
      "source": [
        "## Tarefa (para agora)\n",
        "\n",
        "- Escrever um notebook do Colab para calcular o número de segundos $s$, dado o número de horas contida em uma variável $h$.\n",
        "\n",
        "- Colocar o seu nome e na primeira célula do Notebook.\n",
        "\n",
        "- O notebook deve estar com texto explicando o Notebook. \n",
        "\n",
        "- Use o notebook para encontrar o número de segundos para 1) uma hora e meia; 2) 12 horas; 3) 24 horas.\n",
        "\n",
        "- Os três resultados devem ser mostrados ao executar o notebook.\n",
        "\n",
        "- Coloque no seu repositório do Github o arquivo '.ipynb' contendo o notebook feito por você com o nome \"Tarefa3SeuNome.ipynb\"."
      ]
    },
    {
      "cell_type": "markdown",
      "metadata": {
        "id": "Fd14-zwErAQg"
      },
      "source": [
        "## Tarefa (para antes da próxima aula)\n",
        "\n",
        "- Escrever um Notebook do Colab para calcular as quatro expressões a seguir.\n",
        "\n",
        "- Colocar o seu nome e na primeira célula do Notebook.\n",
        "\n",
        "- O notebook deve conter textos explicando o que o notebook faz.\n",
        "\n",
        "- Todos os resultados devem ser mostrados ao executar o o Notebook.\n",
        "\n",
        "- Coloque no seu repositório do Github o arquivo '.ipynb' contendo o script feito por você com o nome \"Tarefa4SeuNome.ipynb\"."
      ]
    },
    {
      "cell_type": "markdown",
      "metadata": {
        "id": "bFlh-7uOrAQg"
      },
      "source": [
        "**1)** O volume de uma esfera com raio contida em uma variável $R$. \n",
        "\n",
        "\n",
        "Teste para a) $R = 0,32 $ m, b) $R = 1$ m, c) $R = 1,9$ m."
      ]
    },
    {
      "cell_type": "markdown",
      "metadata": {
        "id": "-iAIQjVerAQh"
      },
      "source": [
        "**2)** Temperatura em Fahrenheit dada a temperatura em Celsius contida em uma variavel $T_c$. \n",
        "\n",
        "Teste para a) $T_c = -10 ^\\circ C$  , b) $T_c = 30^\\circ C$ , c) $T_c = 5^\\circ C$ "
      ]
    },
    {
      "cell_type": "markdown",
      "metadata": {
        "id": "qJeux_UWrAQh"
      },
      "source": [
        "**3)** O tamanho do lado $c$ de um triângulo com lados $a, b$ e  ângulo $\\theta$ entre os lados $a$ e $b$ conhecidos. $a$, $b$ e $\\theta$ devem estar gravadas em variáveis. A expressão para isso é conhecida como lei dos cossenos:\n",
        "\n",
        "$$c = \\sqrt{a^2+b^2-2ab\\cos(\\theta)} $$\n",
        "\n",
        "Teste para a) $a = 1$, $b = 2$ e $\\theta = 30^\\circ$, b) $a = 3$, $b = 1$ e $\\theta = 45^\\circ$, c) $a = 10$, $b = 11$ e $\\theta = 15^\\circ$"
      ]
    },
    {
      "cell_type": "markdown",
      "metadata": {
        "id": "2WssHwZ8rAQh"
      },
      "source": [
        "**4)** A série de Fibonacci é uma sequência de números inteiros em que cada número da série é a soma dos dois números anteriores:\n",
        "\n",
        "$0,1,1,2,3,5,8,13,21,34,55,... $\n",
        "\n",
        "O i-ésimo número pode ser aproximado pela seguinte expressão:\n",
        "\n",
        "$$ F_i = \\Bigg\\lfloor\\frac{\\left(\\frac{1+\\sqrt{5}}{2} \\right)^i- \\left(\\frac{1-\\sqrt{5}}{2} \\right)^i}{\\sqrt{5}} \\Bigg\\rfloor $$\n",
        "\n",
        "Na expressão acima o símbolo $\\lfloor .\\rfloor$ representa a função piso.\n",
        "\n",
        "Teste para a) $i$ = 30, b) $i$= 31 e c) $i$ = 32.\n",
        "\n"
      ]
    },
    {
      "cell_type": "markdown",
      "metadata": {
        "id": "-ysgCfnOrAQh"
      },
      "source": [
        "## Referências\n",
        "\n",
        "- Chalco, JM, *Slides de Bases Computacionais da Ciência*, (2014)\n",
        "- Leite, S, *Slides de Bases Computacionais da Ciência*, (2018)\n",
        "- [Marietto, MGB et al.; **Bases computacionais da Ciência** (2013)](http://prograd.ufabc.edu.br/images/pdf/bases_computacionais_livro.pdf).\n",
        "- [Duarte, M, *Python para computação científica* (2017)](https://nbviewer.jupyter.org/github/BMClab/bmc/blob/master/notebooks/PT-BR/PythonForScientificComputing_PT-BR.ipynb)\n",
        "- [NumPy Reference¶](https://docs.scipy.org/doc/numpy/reference/index.html)\n",
        "- [Duarte, M e Watanabe, R; Python Tutorial (2018)](https://nbviewer.jupyter.org/github/BMClab/bmc/blob/master/notebooks/PT-BR/PythonTutorial_PT-BR.ipynb)\n"
      ]
    }
  ],
  "metadata": {
    "celltoolbar": "Slideshow",
    "kernelspec": {
      "display_name": "Python 3 (ipykernel)",
      "language": "python",
      "name": "python3"
    },
    "language_info": {
      "codemirror_mode": {
        "name": "ipython",
        "version": 3
      },
      "file_extension": ".py",
      "mimetype": "text/x-python",
      "name": "python",
      "nbconvert_exporter": "python",
      "pygments_lexer": "ipython3",
      "version": "3.9.13"
    },
    "latex_envs": {
      "LaTeX_envs_menu_present": true,
      "autoclose": false,
      "autocomplete": true,
      "bibliofile": "biblio.bib",
      "cite_by": "apalike",
      "current_citInitial": 1,
      "eqLabelWithNumbers": true,
      "eqNumInitial": 1,
      "hotkeys": {
        "equation": "Ctrl-E",
        "itemize": "Ctrl-I"
      },
      "labels_anchors": false,
      "latex_user_defs": false,
      "report_style_numbering": false,
      "user_envs_cfg": false
    },
    "livereveal": {
      "autolaunch": true
    },
    "nbTranslate": {
      "displayLangs": [
        "*"
      ],
      "hotkey": "alt-t",
      "langInMainMenu": true,
      "sourceLang": "en",
      "targetLang": "fr",
      "useGoogleTranslate": true
    },
    "toc": {
      "base_numbering": 1,
      "nav_menu": {},
      "number_sections": true,
      "sideBar": true,
      "skip_h1_title": true,
      "title_cell": "Contents",
      "title_sidebar": "Contents",
      "toc_cell": true,
      "toc_position": {},
      "toc_section_display": true,
      "toc_window_display": false
    },
    "varInspector": {
      "cols": {
        "lenName": 16,
        "lenType": 16,
        "lenVar": 40
      },
      "kernels_config": {
        "python": {
          "delete_cmd_postfix": "",
          "delete_cmd_prefix": "del ",
          "library": "var_list.py",
          "varRefreshCmd": "print(var_dic_list())"
        },
        "r": {
          "delete_cmd_postfix": ") ",
          "delete_cmd_prefix": "rm(",
          "library": "var_list.r",
          "varRefreshCmd": "cat(var_dic_list()) "
        }
      },
      "types_to_exclude": [
        "module",
        "function",
        "builtin_function_or_method",
        "instance",
        "_Feature"
      ],
      "window_display": false
    },
    "colab": {
      "provenance": []
    }
  },
  "nbformat": 4,
  "nbformat_minor": 0
}